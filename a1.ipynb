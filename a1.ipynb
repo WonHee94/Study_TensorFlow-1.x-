{
  "nbformat": 4,
  "nbformat_minor": 0,
  "metadata": {
    "colab": {
      "name": "a1.ipynb",
      "provenance": [],
      "authorship_tag": "ABX9TyMK5+BrsCNgYu5HFGW8kuo6",
      "include_colab_link": true
    },
    "kernelspec": {
      "name": "python3",
      "display_name": "Python 3"
    }
  },
  "cells": [
    {
      "cell_type": "markdown",
      "metadata": {
        "id": "view-in-github",
        "colab_type": "text"
      },
      "source": [
        "<a href=\"https://colab.research.google.com/github/wonively523/Study_TensorFlow-1.x-/blob/master/a1.ipynb\" target=\"_parent\"><img src=\"https://colab.research.google.com/assets/colab-badge.svg\" alt=\"Open In Colab\"/></a>"
      ]
    },
    {
      "cell_type": "code",
      "metadata": {
        "id": "CYlry2MCPtDD",
        "colab_type": "code",
        "colab": {
          "base_uri": "https://localhost:8080/",
          "height": 161
        },
        "outputId": "dc6b524f-8efb-432c-c046-360fc7e18eb5"
      },
      "source": [
        "print(\"수식 1은 몇 개의 항으로 구성되어 있나요?\")\n",
        "poly1_n = int(input())\n",
        "print(\"수식 1을 입력하세요: \")\n",
        "poly1 = list(map(int,input()))\n",
        "print(\"수식 2은 몇 개의 항으로 구성되어 있나요?\")\n",
        "poly2_n = int(input())\n",
        "print(\"수식 2을 입력하세요: \")\n",
        "poly2 = list(map(int,input()))\n",
        "\n",
        "def divide_list(l,n):\n",
        "  for i in range(0,len(l),n):\n",
        "    yield l[i:i+n]\n",
        "\n",
        "n=2\n",
        "\n",
        "p1 = list(divide_list(poly1,n))\n",
        "p2 = list(divide_list(poly2,n))\n",
        "\n",
        "p3 = []\n",
        "\n",
        "for i in range(max(poly1_n,poly2_n)):\n",
        "  if p1[i][1] == p2[i][1]:\n",
        "    m = p1[i][0] + p2[i][0]\n",
        "    if m != 0:\n",
        "      p3.append([m, p1[i][1]])  \n",
        "\n",
        "  if p1[i][1] != p2[i][1]:\n",
        "    if p1[i][1] > p2[i][1]:\n",
        "      p3.append(p1[i])\n",
        "      p3.append(p2[i])\n",
        "    else: \n",
        "      p3.append(p2[i])\n",
        "      p3.append(p1[i])\n",
        "\n",
        "#print(p3)\n",
        "\n",
        "a=[]\n",
        "b=[]\n",
        "c=[]\n",
        "d=[]\n",
        "e=[]\n",
        "f=[]\n",
        "\n",
        "for i in range(len(p3)):\n",
        "  if p3[i][1]== 5:\n",
        "    a.append(p3[i])\n",
        "  elif p3[i][1] == 4:\n",
        "    b.append(p3[i])\n",
        "  elif p3[i][1] == 3:\n",
        "    c.append(p3[i])\n",
        "  elif p3[i][1] == 2:\n",
        "    d.append(p3[i])\n",
        "  elif p3[i][1] == 1:  \n",
        "    e.append(p3[i])\n",
        "  else:\n",
        "    f.append(p3[i])\n",
        "\n",
        "#print(d)\n",
        "\n",
        "\n",
        "aa=[]\n",
        "bb=[]\n",
        "cc=[]\n",
        "dd=[]\n",
        "ee=[]\n",
        "ff=[]\n",
        "g=0\n",
        "h=0\n",
        "j=0\n",
        "k=0\n",
        "w=0\n",
        "x=0\n",
        "\n",
        "for i in range(len(a)):\n",
        "  g += a[i][0]\n",
        "aa.append([g,5])  \n",
        "\n",
        "for i in range(len(b)):\n",
        "  h += b[i][0]\n",
        "bb.append([h,4])\n",
        "\n",
        "for i in range(len(c)):\n",
        "  j += c[i][0]\n",
        "cc.append([j,3])\n",
        "\n",
        "for i in range(len(d)):\n",
        "  k += d[i][0]\n",
        "dd.append([k,2])\n",
        "\n",
        "for i in range(len(e)):\n",
        "  w += e[i][0]\n",
        "ee.append([w,1])  \n",
        "\n",
        "for i in range(len(f)):\n",
        "  x += f[i][0]\n",
        "ff.append([x,0])  \n",
        "\n",
        "\n",
        "poly3=[]\n",
        "\n",
        "if aa[0][0] != 0:\n",
        "  poly3.append(aa[0])\n",
        "\n",
        "if bb[0][0] != 0:\n",
        "  poly3.append(bb[0])\n",
        "\n",
        "if cc[0][0] != 0:\n",
        "  poly3.append(cc[0])\n",
        "\n",
        "if dd[0][0] != 0:\n",
        "  poly3.append(dd[0])\n",
        "\n",
        "if ee[0][0] != 0:\n",
        "  poly3.append(ee[0])\n",
        "\n",
        "if ff[0][0] != 0:\n",
        "  poly3.append(ff[0])\n"
      ],
      "execution_count": 177,
      "outputs": [
        {
          "output_type": "stream",
          "text": [
            "수식 1은 몇 개의 항으로 구성되어 있나요?\n",
            "3\n",
            "수식 1을 입력하세요: \n",
            "336130\n",
            "수식 2은 몇 개의 항으로 구성되어 있나요?\n",
            "3\n",
            "수식 2을 입력하세요: \n",
            "725110\n"
          ],
          "name": "stdout"
        }
      ]
    },
    {
      "cell_type": "code",
      "metadata": {
        "id": "f-Y7mFzyK2iC",
        "colab_type": "code",
        "colab": {
          "base_uri": "https://localhost:8080/",
          "height": 71
        },
        "outputId": "f9ca79e0-8fc2-40d0-8629-29dc8ca4c254"
      },
      "source": [
        "print(\"수식 1과 수식 2의 덧셈 결과입니다.\")\n",
        "print(poly3)\n",
        "\n",
        "rr=len(poly3)\n",
        "r= rr-1\n",
        "\n",
        "for i in range(rr-1):\n",
        "  print(\"%dx^\"% poly3[i][0] + \"%d+\" % poly3[i][1], end='') \n",
        "\n",
        "if poly3[r][1] == 0:\n",
        "  print(\"%d\"% poly3[r][0])\n",
        "else:\n",
        "  print(\"%dx^\"% poly3[r][0] + \"%d+\" % poly3[r][1])"
      ],
      "execution_count": 187,
      "outputs": [
        {
          "output_type": "stream",
          "text": [
            "수식 1과 수식 2의 덧셈 결과입니다.\n",
            "[[3, 3], [7, 2], [11, 1], [4, 0]]\n",
            "3x^3+7x^2+11x^1+4\n"
          ],
          "name": "stdout"
        }
      ]
    },
    {
      "cell_type": "code",
      "metadata": {
        "id": "ng0aC_j2rJ9Z",
        "colab_type": "code",
        "colab": {}
      },
      "source": [
        "def polynomial3(x):\n",
        "  pp33 = 0\n",
        "  for i in range(len(poly3)):\n",
        "    pp33 += poly3[i][0]* x**poly3[i][1] \n",
        "\n",
        "  return pp33"
      ],
      "execution_count": 0,
      "outputs": []
    },
    {
      "cell_type": "code",
      "metadata": {
        "id": "NhqU2U6Z3tjX",
        "colab_type": "code",
        "colab": {}
      },
      "source": [
        "def polynomial1(x):\n",
        "  pp11 = 0\n",
        "  for i in range(len(p1)):\n",
        "    pp11 += p1[i][0]* x**p1[i][1] \n",
        "\n",
        "  return pp11"
      ],
      "execution_count": 0,
      "outputs": []
    },
    {
      "cell_type": "code",
      "metadata": {
        "id": "EOaN6w2HENBc",
        "colab_type": "code",
        "colab": {}
      },
      "source": [
        "def polynomial2(x):\n",
        "  pp22 = 0\n",
        "  for i in range(len(p1)):\n",
        "    pp22 += p2[i][0]* x**p2[i][1] \n",
        "\n",
        "  return pp22\n",
        "\n",
        "#print(polynomial2(1))"
      ],
      "execution_count": 0,
      "outputs": []
    },
    {
      "cell_type": "code",
      "metadata": {
        "id": "h9Npva3Fr-NI",
        "colab_type": "code",
        "colab": {
          "base_uri": "https://localhost:8080/",
          "height": 71
        },
        "outputId": "3a3ba3de-7d7d-402d-a8ed-d08e9ec571a5"
      },
      "source": [
        "print(\"수식에 값을 넣으세요: \")\n",
        "it = list(map(int,input()))\n",
        "\n",
        "if it[0] == 3:\n",
        "  print(\"결과값은 \", end='')\n",
        "  print(polynomial3(it[1]))\n",
        "if it[0] == 1:\n",
        "  print(\"결과값은 \", end='')\n",
        "  print(polynomial1(it[1]))\n",
        "if it[0] == 2:\n",
        "  print(\"결과값은 \", end='')\n",
        "  print(polynomial2(it[2]))\n",
        "if it[0] == 4:\n",
        "  print(\"결과값은 \", end='')\n",
        "  print(polynomial4(it[4]))\n",
        "  \n",
        "\n",
        "  "
      ],
      "execution_count": 189,
      "outputs": [
        {
          "output_type": "stream",
          "text": [
            "수식에 값을 넣으세요: \n",
            "32\n",
            "결과값은 78\n"
          ],
          "name": "stdout"
        }
      ]
    },
    {
      "cell_type": "code",
      "metadata": {
        "id": "x6cPa0zjFE-D",
        "colab_type": "code",
        "colab": {}
      },
      "source": [
        ""
      ],
      "execution_count": 0,
      "outputs": []
    }
  ]
}